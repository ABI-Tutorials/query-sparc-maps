{
 "cells": [
  {
   "cell_type": "code",
   "execution_count": 249,
   "id": "76e34839",
   "metadata": {},
   "outputs": [],
   "source": [
    "from utility import request_json\n",
    "import requests\n",
    "import rdflib"
   ]
  },
  {
   "cell_type": "markdown",
   "id": "d9b7548f",
   "metadata": {},
   "source": [
    "### Check from Scicrunch"
   ]
  },
  {
   "cell_type": "code",
   "execution_count": 4,
   "id": "cfa73c98",
   "metadata": {},
   "outputs": [],
   "source": [
    "SCICRUNCH_PRODUCTION = 'sckan-scigraph'\n",
    "SCICRUNCH_API_ENDPOINT = 'https://scicrunch.org/api/1'\n",
    "SCICRUNCH_SPARC_API = f'{SCICRUNCH_API_ENDPOINT}/{{SCICRUNCH_RELEASE}}'\n",
    "\n",
    "SCICRUNCH_SPARC_VOCAB = f'{SCICRUNCH_SPARC_API}/vocabulary/id/{{TERM}}.json'\n",
    "SCICRUNCH_SPARC_API = f'{SCICRUNCH_API_ENDPOINT}/ilx/search/term/{{LABEL}}'"
   ]
  },
  {
   "cell_type": "code",
   "execution_count": 68,
   "id": "d82304a6",
   "metadata": {},
   "outputs": [],
   "source": [
    "import os\n",
    "import pandas as pd\n",
    "from tqdm import tqdm\n",
    "\n",
    "tqdm.pandas()\n",
    "\n",
    "params = {\n",
    "    'api_key': os.environ.get('SCICRUNCH_API_KEY'),\n",
    "    'limit': 9999,\n",
    "}\n",
    "\n",
    "def get_existing_term(term: str):\n",
    "    data = request_json(SCICRUNCH_SPARC_VOCAB.format(SCICRUNCH_RELEASE=SCICRUNCH_PRODUCTION, TERM=term), params=params)\n",
    "    if (labels:=data.get('labels')):\n",
    "        return get_term_from_label(labels[0])\n",
    "    return pd.NA\n",
    "\n",
    "def get_term_from_label(label):\n",
    "    data = request_json(SCICRUNCH_SPARC_API.format(LABEL=label), params=params)\n",
    "    existing_ids = [eid['curie'] for eid in data.get('data', {}).get('existing_ids', pd.NA)]\n",
    "    return existing_ids if existing_ids else pd.NA"
   ]
  },
  {
   "cell_type": "code",
   "execution_count": null,
   "id": "93725cb0",
   "metadata": {},
   "outputs": [],
   "source": [
    "### Load nerve list\n",
    "df = pd.read_csv('nervesWithVagus_annotations.csv')"
   ]
  },
  {
   "cell_type": "markdown",
   "id": "987cd3e1",
   "metadata": {},
   "source": [
    "### Checking based on Term ID"
   ]
  },
  {
   "cell_type": "code",
   "execution_count": null,
   "id": "0e26cb66",
   "metadata": {},
   "outputs": [],
   "source": [
    "fma_df = df[df['Term ID'].astype(str).str.startswith('FMA')]"
   ]
  },
  {
   "cell_type": "code",
   "execution_count": null,
   "id": "be521e9b",
   "metadata": {},
   "outputs": [],
   "source": [
    "fma_df['available'] = fma_df['Term ID'].progress_apply(get_existing_term)"
   ]
  },
  {
   "cell_type": "code",
   "execution_count": 82,
   "id": "49bfb968",
   "metadata": {},
   "outputs": [],
   "source": [
    "fma_df.to_csv('fma_df.csv', index=False)"
   ]
  },
  {
   "cell_type": "markdown",
   "id": "ee443a18",
   "metadata": {},
   "source": [
    "### Checking those without Term ID"
   ]
  },
  {
   "cell_type": "code",
   "execution_count": 69,
   "id": "a8cc7416",
   "metadata": {},
   "outputs": [
    {
     "name": "stderr",
     "output_type": "stream",
     "text": [
      "100%|██████████| 130/130 [01:29<00:00,  1.44it/s]\n",
      "/var/folders/zz/mk7_vrcn3r3gsbwr585w4blxzyk8xb/T/ipykernel_74345/2597593306.py:2: SettingWithCopyWarning: \n",
      "A value is trying to be set on a copy of a slice from a DataFrame.\n",
      "Try using .loc[row_indexer,col_indexer] = value instead\n",
      "\n",
      "See the caveats in the documentation: https://pandas.pydata.org/pandas-docs/stable/user_guide/indexing.html#returning-a-view-versus-a-copy\n",
      "  null_df['available'] = null_df['Group name'].progress_apply(get_term_from_label)\n"
     ]
    }
   ],
   "source": [
    "null_df = df[df['Term ID'].isnull()]\n",
    "null_df['available'] = null_df['Group name'].progress_apply(get_term_from_label)"
   ]
  },
  {
   "cell_type": "code",
   "execution_count": 77,
   "id": "44ec1175",
   "metadata": {},
   "outputs": [
    {
     "data": {
      "text/plain": [
       "(60, 3)"
      ]
     },
     "execution_count": 77,
     "metadata": {},
     "output_type": "execute_result"
    }
   ],
   "source": [
    "null_df[null_df['available'].str.len() > 0].shape"
   ]
  },
  {
   "cell_type": "code",
   "execution_count": 83,
   "id": "895d2993",
   "metadata": {},
   "outputs": [],
   "source": [
    "null_df.to_csv('null_df.csv', index=False)"
   ]
  },
  {
   "cell_type": "markdown",
   "id": "4e6fe305",
   "metadata": {},
   "source": [
    "### Check from uberon, using hasDbXref"
   ]
  },
  {
   "cell_type": "code",
   "execution_count": null,
   "id": "fe383d8b",
   "metadata": {},
   "outputs": [],
   "source": [
    "### Dowload ### You can also downoad manually and store it in this repo main directory\n",
    "### You can also downoad manually and store it in this repo main directory\n",
    "\n",
    "uberon_url = 'https://data.bioontology.org/ontologies/UBERON/submissions/351/download?apikey=8b5b7825-538d-40e0-9e9e-5ab9274a9aeb'\n",
    "response = requests.get(uberon_url)\n",
    "response.raise_for_status()\n",
    "with open('uberon.owl', \"wb\") as f:\n",
    "    f.write(response.content)"
   ]
  },
  {
   "cell_type": "code",
   "execution_count": null,
   "id": "d96b1779",
   "metadata": {},
   "outputs": [],
   "source": [
    "## Load uberon to rdflib graph\n",
    "g_uberon = rdflib.Graph()\n",
    "g_uberon.parse('uberon.owl', format='xml')"
   ]
  },
  {
   "cell_type": "code",
   "execution_count": 193,
   "id": "ebbbb634",
   "metadata": {},
   "outputs": [],
   "source": [
    "OBOINOWL = rdflib.Namespace(\"http://www.geneontology.org/formats/oboInOwl#\")\n",
    "\n",
    "def get_hasDbXref(term):\n",
    "    for s in g_uberon.subjects(predicate=OBOINOWL.hasDbXref, object=rdflib.Literal(term)):\n",
    "        if (s, rdflib.RDF.type, rdflib.OWL.Class) in g_uberon:\n",
    "            return str(s).replace('http://purl.obolibrary.org/obo/UBERON_', 'UBERON:')\n",
    "    return pd.NA"
   ]
  },
  {
   "cell_type": "code",
   "execution_count": 194,
   "id": "f4d7d0c0",
   "metadata": {},
   "outputs": [],
   "source": [
    "fma_df = fma_df.copy()\n",
    "fma_df['available'] = fma_df['available'].fillna(fma_df['Term ID'].apply(get_hasDbXref))"
   ]
  },
  {
   "cell_type": "markdown",
   "id": "251c0bc2",
   "metadata": {},
   "source": [
    "### Now check superclass and superbranch\n",
    "This is not the match but candidate to check\n",
    "\n",
    "And this take a lot of time, be patient"
   ]
  },
  {
   "cell_type": "code",
   "execution_count": null,
   "id": "30bdfceb",
   "metadata": {},
   "outputs": [],
   "source": [
    "### Dowload and fma.owl\n",
    "### You can also downoad manually and store it in this repo main directory\n",
    "\n",
    "uberon_url = 'https://data.bioontology.org/ontologies/UBERON/submissions/351/download?apikey=8b5b7825-538d-40e0-9e9e-5ab9274a9aeb'\n",
    "response = requests.get(uberon_url)\n",
    "response.raise_for_status()\n",
    "with open('uberon.owl', \"wb\") as f:\n",
    "    f.write(response.content)\n",
    "\n"
   ]
  },
  {
   "cell_type": "markdown",
   "id": "dfe12e8f",
   "metadata": {},
   "source": []
  },
  {
   "cell_type": "code",
   "execution_count": null,
   "id": "2bd7ddb3",
   "metadata": {},
   "outputs": [
    {
     "data": {
      "text/plain": [
       "<Graph identifier=N6842709cda384c63a8e76c9d00a33d7e (<class 'rdflib.graph.Graph'>)>"
      ]
     },
     "execution_count": 85,
     "metadata": {},
     "output_type": "execute_result"
    }
   ],
   "source": [
    "g_fma = rdflib.Graph()\n",
    "g_fma.parse('fma.owl', format='xml')"
   ]
  },
  {
   "cell_type": "code",
   "execution_count": 196,
   "id": "bd88db4c",
   "metadata": {},
   "outputs": [],
   "source": [
    "FMA = rdflib.Namespace(\"http://purl.org/sig/ont/fma/fma\")\n",
    "RDFS = rdflib.Namespace(\"http://www.w3.org/2000/01/rdf-schema#\")\n",
    "\n",
    "def curie(uri):\n",
    "    if isinstance(uri, rdflib.URIRef):\n",
    "        uri = str(uri)\n",
    "        if uri.startswith(\"http://purl.org/sig/ont/fma/fma\"):\n",
    "            return \"FMA:\" + uri.rsplit(\"fma\", 1)[-1]\n",
    "        elif uri.startswith(\"http://purl.obolibrary.org/obo/UBERON_\"):\n",
    "            return uri.replace('http://purl.obolibrary.org/obo/UBERON_', 'UBERON:')\n",
    "        return uri\n",
    "    return uri\n",
    "\n",
    "def clean_literal(val):\n",
    "    if isinstance(val, rdflib.Literal):\n",
    "        if val.datatype and val.datatype.endswith(\"integer\"):\n",
    "            return int(val)\n",
    "        elif val.datatype and val.datatype.endswith(\"float\"):\n",
    "            return float(val)\n",
    "        return str(val)\n",
    "    return val\n",
    "\n",
    "def get_related_terms(term):\n",
    "    query = f\"\"\"\n",
    "    PREFIX rdfs: <http://www.w3.org/2000/01/rdf-schema#>\n",
    "    PREFIX FMA: <http://purl.org/sig/ont/fma/fma>\n",
    "    PREFIX owl: <http://www.w3.org/2002/07/owl#>\n",
    "\n",
    "    SELECT ?superclass ?label ?rel (COUNT(?mid) AS ?level)\n",
    "    WHERE {{\n",
    "      {{\n",
    "        # Subclass path\n",
    "        {term} rdfs:subClassOf* ?mid .\n",
    "        ?mid rdfs:subClassOf* ?superclass .\n",
    "        BIND(\"subClassOf\" AS ?rel)\n",
    "      }}\n",
    "      UNION\n",
    "      {{\n",
    "        # branch_of restriction path\n",
    "        {term} rdfs:subClassOf* ?mid .\n",
    "        ?mid rdfs:subClassOf* [\n",
    "          owl:onProperty <http://purl.org/sig/ont/fma/branch> ;\n",
    "          owl:someValuesFrom ?superclass\n",
    "        ] .\n",
    "        BIND(\"branch_of\" AS ?rel)\n",
    "      }}\n",
    "\n",
    "      # Shared filters and info\n",
    "      OPTIONAL {{ ?superclass rdfs:label ?label }}\n",
    "      ?superclass a owl:Class .\n",
    "      ?superclass rdfs:subClassOf* FMA:65132 .\n",
    "    }}\n",
    "    GROUP BY ?superclass ?label ?type ?rel\n",
    "    ORDER BY ?level\n",
    "\n",
    "    \"\"\"\n",
    "\n",
    "    rows = []\n",
    "    for row in g_fma.query(query):\n",
    "        superclass = curie(row.superclass)\n",
    "        if superclass == 'FMA:65132':\n",
    "            continue\n",
    "        label = clean_literal(row.label)\n",
    "        rel = clean_literal(row.rel)\n",
    "        level = clean_literal(row.level)\n",
    "        rows.append((superclass, label, rel, level))\n",
    "\n",
    "    # return pd.DataFrame(rows, columns=[\"superclass\", \"label\", \"relation\", \"level\"])\n",
    "    return rows\n"
   ]
  },
  {
   "cell_type": "code",
   "execution_count": 154,
   "id": "549f0abb",
   "metadata": {},
   "outputs": [
    {
     "name": "stderr",
     "output_type": "stream",
     "text": [
      "100%|██████████| 432/432 [35:43<00:00,  4.96s/it]\n"
     ]
    }
   ],
   "source": [
    "### now get superclass or super branch of terms (WARNING: this will be slow)\n",
    "candidate_terms = {}\n",
    "for term in tqdm(fma_df[fma_df['available'].isna()]['Term ID']):\n",
    "    candidate_terms[term] = get_related_terms(term)"
   ]
  },
  {
   "cell_type": "code",
   "execution_count": 179,
   "id": "c9afdafb",
   "metadata": {},
   "outputs": [
    {
     "name": "stderr",
     "output_type": "stream",
     "text": [
      "Checking existing terms: 100%|██████████| 1211/1211 [29:58<00:00,  1.49s/it]\n"
     ]
    }
   ],
   "source": [
    "### populate existing terms, so can be access several time\n",
    "existing_terms = {}\n",
    "\n",
    "# Flatten and deduplicate candidate terms\n",
    "unique_rows = set(row for k_terms in candidate_terms.values() for row in k_terms)\n",
    "\n",
    "for row in tqdm(unique_rows, desc=\"Checking existing terms\"):\n",
    "    ilx_terms = get_existing_term(row[0])\n",
    "    if isinstance(ilx_terms, list) and len(ilx_terms) > 0:\n",
    "        existing_terms[row[0]] = ilx_terms"
   ]
  },
  {
   "cell_type": "code",
   "execution_count": 244,
   "id": "1fdf4646",
   "metadata": {},
   "outputs": [
    {
     "name": "stderr",
     "output_type": "stream",
     "text": [
      "100%|██████████| 429/429 [00:00<00:00, 2725.09it/s]\n"
     ]
    }
   ],
   "source": [
    "### then check from existing_terms\n",
    "ct_df = pd.DataFrame(columns=['Term ID', 'ILX superclass', 'FMA superclass', 'superclass label', 'relation', 'level'])\n",
    "missing_fmas = []\n",
    "for term, k_terms in tqdm(candidate_terms.items()):\n",
    "    for row in k_terms:\n",
    "        new_row = []\n",
    "        if (ilx_terms:=existing_terms.get(row[0])):\n",
    "            new_row = {\n",
    "                'Term ID': term,\n",
    "                'ILX superclass': ilx_terms,\n",
    "                'FMA superclass': row[0],\n",
    "                'superclass label': row[1],\n",
    "                'relation': row[2],\n",
    "                'level': row[3]\n",
    "            }\n",
    "            ct_df = pd.concat([ct_df, pd.DataFrame([new_row])], ignore_index=True)\n",
    "            break\n",
    "        if not new_row:\n",
    "            missing_fmas += [term]"
   ]
  },
  {
   "cell_type": "code",
   "execution_count": 245,
   "id": "ce5f7c7f",
   "metadata": {},
   "outputs": [],
   "source": [
    "## Final step, for missing FMA terms check to UBERON\n",
    "\n",
    "OBOINOWL = rdflib.Namespace(\"http://www.geneontology.org/formats/oboInOwl#\")\n",
    "\n",
    "for term in missing_fmas:\n",
    "    for row in candidate_terms[term]:\n",
    "        for s in g_uberon.subjects(predicate=OBOINOWL.hasDbXref, object=rdflib.Literal(curie)):\n",
    "            if (s, rdflib.RDF.type, rdflib.OWL.Class) in g_uberon:\n",
    "                new_row = {\n",
    "                    'Term ID': term,\n",
    "                    'ILX superclass': [curie[s]],\n",
    "                    'FMA superclass': row[0],\n",
    "                    'superclass label': row[1],\n",
    "                    'relation': row[2],\n",
    "                    'level': row[3]\n",
    "                }\n",
    "                ct_df = pd.concat([ct_df, pd.DataFrame([new_row])], ignore_index=True)\n",
    "                break  # break inner 'row' loop\n",
    "        else:\n",
    "            continue  # only runs if no break: keep checking rows\n",
    "        break"
   ]
  },
  {
   "cell_type": "markdown",
   "id": "2b4632ed",
   "metadata": {},
   "source": [
    "### Now combine all"
   ]
  },
  {
   "cell_type": "code",
   "execution_count": 255,
   "id": "35e875ad",
   "metadata": {},
   "outputs": [],
   "source": [
    "df_merged = df.merge(fma_df[['Term ID', 'available']], on='Term ID', how='left')\n",
    "\n",
    "df_merged = df_merged.merge(null_df[['Group name', 'available']].rename(columns={'available': 'group_available'}),\n",
    "                            on='Group name', how='left')\n",
    "\n",
    "df_merged['available'] = df_merged['available'].fillna(df_merged['group_available'])\n",
    "\n",
    "df_merged.drop(columns=['group_available'], inplace=True)\n",
    "\n",
    "\n",
    "final_df = df_merged.merge(\n",
    "    ct_df,\n",
    "    on='Term ID',\n",
    "    how='left'  # or 'outer' if you want to preserve all terms from both\n",
    ")"
   ]
  },
  {
   "cell_type": "code",
   "execution_count": 256,
   "id": "6bbbb3cd",
   "metadata": {},
   "outputs": [],
   "source": [
    "final_df.to_csv('mapped_fma_nerves.csv')"
   ]
  },
  {
   "cell_type": "code",
   "execution_count": 260,
   "id": "e3275a1c",
   "metadata": {},
   "outputs": [
    {
     "data": {
      "text/html": [
       "<div>\n",
       "<style scoped>\n",
       "    .dataframe tbody tr th:only-of-type {\n",
       "        vertical-align: middle;\n",
       "    }\n",
       "\n",
       "    .dataframe tbody tr th {\n",
       "        vertical-align: top;\n",
       "    }\n",
       "\n",
       "    .dataframe thead th {\n",
       "        text-align: right;\n",
       "    }\n",
       "</style>\n",
       "<table border=\"1\" class=\"dataframe\">\n",
       "  <thead>\n",
       "    <tr style=\"text-align: right;\">\n",
       "      <th></th>\n",
       "      <th>Term ID</th>\n",
       "      <th>Group name</th>\n",
       "      <th>available</th>\n",
       "      <th>ILX superclass</th>\n",
       "      <th>FMA superclass</th>\n",
       "      <th>superclass label</th>\n",
       "      <th>relation</th>\n",
       "      <th>level</th>\n",
       "    </tr>\n",
       "  </thead>\n",
       "  <tbody>\n",
       "    <tr>\n",
       "      <th>112</th>\n",
       "      <td>NaN</td>\n",
       "      <td>Chorda tympani branch of left facial nerve</td>\n",
       "      <td>[ILX:0795106]</td>\n",
       "      <td>NaN</td>\n",
       "      <td>NaN</td>\n",
       "      <td>NaN</td>\n",
       "      <td>NaN</td>\n",
       "      <td>NaN</td>\n",
       "    </tr>\n",
       "  </tbody>\n",
       "</table>\n",
       "</div>"
      ],
      "text/plain": [
       "    Term ID                                  Group name      available  \\\n",
       "112     NaN  Chorda tympani branch of left facial nerve  [ILX:0795106]   \n",
       "\n",
       "    ILX superclass FMA superclass superclass label relation level  \n",
       "112            NaN            NaN              NaN      NaN   NaN  "
      ]
     },
     "execution_count": 260,
     "metadata": {},
     "output_type": "execute_result"
    }
   ],
   "source": [
    "final_df[final_df['Group name']=='Chorda tympani branch of left facial nerve']"
   ]
  }
 ],
 "metadata": {
  "kernelspec": {
   "display_name": ".venv",
   "language": "python",
   "name": "python3"
  },
  "language_info": {
   "codemirror_mode": {
    "name": "ipython",
    "version": 3
   },
   "file_extension": ".py",
   "mimetype": "text/x-python",
   "name": "python",
   "nbconvert_exporter": "python",
   "pygments_lexer": "ipython3",
   "version": "3.12.3"
  }
 },
 "nbformat": 4,
 "nbformat_minor": 5
}
