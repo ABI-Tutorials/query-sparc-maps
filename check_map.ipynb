{
 "cells": [
  {
   "cell_type": "markdown",
   "id": "930362db-34d0-47a1-86a6-94eaf0ca597c",
   "metadata": {},
   "source": [
    "## Demo for Comparing `Neuron Population` Information from Map and SCKAN"
   ]
  },
  {
   "cell_type": "code",
   "execution_count": 38,
   "id": "435333d7-05ca-4279-a3cc-0667db06a2b4",
   "metadata": {},
   "outputs": [],
   "source": [
    "from pprint import pprint\n",
    "import requests\n",
    "import pandas as pd"
   ]
  },
  {
   "cell_type": "code",
   "execution_count": 19,
   "id": "6b89263a-9bc2-4ddd-b901-513fd79487c0",
   "metadata": {},
   "outputs": [],
   "source": [
    "# Initialising the pg database endpoint\n",
    "pg_endpoint = \"https://mapcore-demo.org/devel/flatmap/v4/competency/\""
   ]
  },
  {
   "cell_type": "markdown",
   "id": "bdfe97fa-c9b5-42b9-bb24-0c44b0de225f",
   "metadata": {},
   "source": [
    "### Get List of Data Source\n",
    "Knowledge sources in the competency query system can include SCKAN versions (e.g., sckan-2024-09-21) as well as available flatmaps (e.g., 2b76d336-5c56-55e3-ab1e-795d6c63f9c1 for the male flatmap). While a dedicated query for listing all available sources is not yet implemented, it will be added in the future. For now, the available sources include:\n"
   ]
  },
  {
   "cell_type": "code",
   "execution_count": 27,
   "id": "311a4f1f-5f22-486e-8b1d-f8aa566f4eae",
   "metadata": {},
   "outputs": [],
   "source": [
    "MALE_FLATMAP = \"2b76d336-5c56-55e3-ab1e-795d6c63f9c1\"\n",
    "FEMALE_FLATMAP = \"91359a0f-9e32-5309-b365-145d9956817d\"\n",
    "RAT_FLATMAP = \"fb6d0345-cb70-5c7e-893c-d744a6313c95\"\n",
    "SCKAN = \"sckan-2024-09-21\""
   ]
  },
  {
   "cell_type": "code",
   "execution_count": 20,
   "id": "99e30e93-0f01-49d3-ba64-648163dfdc98",
   "metadata": {},
   "outputs": [],
   "source": [
    "# A function to get the query definition\n",
    "def get_query_parameters(query_id):\n",
    "    url = pg_endpoint + 'queries/' + str(query_id)\n",
    "    response = requests.get(url)\n",
    "    \n",
    "    if response.status_code in (200, 201):\n",
    "        return response.json()  # Return the query definition as a JSON object\n",
    "    else:\n",
    "        print(f\"Error {response.status_code}: {response.json()}\")\n",
    "        return None\n",
    "\n",
    "# A function to execute a query and return results from PostgreSQL\n",
    "def execute(query):\n",
    "    url = pg_endpoint + 'query'\n",
    "    headers = {\"Content-Type\": \"application/json\"}\n",
    "    \n",
    "    response = requests.post(url, json=query, headers=headers)\n",
    "    \n",
    "    if response.status_code in (200, 201):\n",
    "        return response.json().get('results', [])  # Safely get 'results' from response\n",
    "    else:\n",
    "        print(f\"Error {response.status_code}: {response.json()}\")\n",
    "        return None "
   ]
  },
  {
   "cell_type": "code",
   "execution_count": 33,
   "id": "96041912-9604-4908-8644-2e258230c0b7",
   "metadata": {},
   "outputs": [],
   "source": [
    "def get_neuron_populations(source_id, feature_id):\n",
    "    query = {\n",
    "        'query_id': '1', \n",
    "        'parameters': [\n",
    "            {\n",
    "                'column': 'feature_id', \n",
    "                'value': feature_id # Aortic arch depressor nerve\n",
    "            }, \n",
    "            {\n",
    "                'column': 'source_id', \n",
    "                'value': source_id\n",
    "            }\n",
    "        ]\n",
    "    }\n",
    "    \n",
    "    # Execute the query and print results\n",
    "    query_results = execute(query)\n",
    "    \n",
    "    if query_results:\n",
    "        return query_results\n",
    "    else:\n",
    "        print(\"Query execution failed or returned no results.\")"
   ]
  },
  {
   "cell_type": "code",
   "execution_count": 34,
   "id": "8b19553d-9805-48be-98ba-935929d0ac77",
   "metadata": {},
   "outputs": [
    {
     "data": {
      "text/plain": [
       "{'keys': ['source_id', 'path_id'],\n",
       " 'values': [['2b76d336-5c56-55e3-ab1e-795d6c63f9c1',\n",
       "   'ilxtr:neuron-type-aacar-12'],\n",
       "  ['2b76d336-5c56-55e3-ab1e-795d6c63f9c1',\n",
       "   'ilxtr:neuron-type-bolew-unbranched-8']]}"
      ]
     },
     "execution_count": 34,
     "metadata": {},
     "output_type": "execute_result"
    }
   ],
   "source": [
    "get_neuron_populations(MALE_FLATMAP, 'ILX:0738312')"
   ]
  },
  {
   "cell_type": "code",
   "execution_count": 35,
   "id": "8fae99e2-7377-472f-b765-f79b2bf0459f",
   "metadata": {},
   "outputs": [
    {
     "data": {
      "text/plain": [
       "{'keys': ['source_id', 'path_id'],\n",
       " 'values': [['sckan-2024-09-21', 'ilxtr:neuron-type-aacar-12'],\n",
       "  ['sckan-2024-09-21', 'ilxtr:neuron-type-bolew-unbranched-8']]}"
      ]
     },
     "execution_count": 35,
     "metadata": {},
     "output_type": "execute_result"
    }
   ],
   "source": [
    "get_neuron_populations(SCKAN, 'ILX:0738312')"
   ]
  },
  {
   "cell_type": "code",
   "execution_count": null,
   "id": "ae8c1377-1279-41ad-b0da-e1bf4ff51128",
   "metadata": {},
   "outputs": [],
   "source": [
    "def check_flatmap(flatmap_id, feature_id):\n",
    "    flatmap = get_neuron_populations(flatmap_id, feature_id)[\"values\"]\n",
    "    sckan = get_neuron_populations(SCKAN, feature_id)[\"values\"]\n",
    "    flatmap_v = [i[1] for i in flatmap]\n",
    "    sckan_v = [i[1] for i in sckan]\n",
    "    print(\"===On Both===\")\n",
    "    on_both = [i for i in flatmap_v if i in sckan_v]\n",
    "    print(on_both)\n",
    "    print(\"===Only On Flatmap===\")\n",
    "    print([i for i in flatmap_v if i not in on_both])\n",
    "    print(\"===Only On Sckan===\")\n",
    "    print([i for i in sckan_v if i not in on_both])"
   ]
  },
  {
   "cell_type": "code",
   "execution_count": 63,
   "id": "b3176670-3878-4cb5-a62f-d1290eefa054",
   "metadata": {},
   "outputs": [
    {
     "name": "stdout",
     "output_type": "stream",
     "text": [
      "===On Both===\n",
      "[]\n",
      "===Only On Flatmap===\n",
      "['ilxtr:sparc-nlp/liver/109', 'ilxtr:sparc-nlp/liver/110', 'ilxtr:sparc-nlp/liver/111', 'ilxtr:sparc-nlp/liver/112', 'ilxtr:sparc-nlp/liver/114', 'ilxtr:sparc-nlp/liver/119', 'ilxtr:sparc-nlp/liver/121', 'ilxtr:sparc-nlp/liver/122', 'ilxtr:sparc-nlp/liver/123', 'ilxtr:sparc-nlp/liver/124', 'ilxtr:sparc-nlp/liver/125', 'ilxtr:sparc-nlp/liver/127']\n",
      "===Only On Sckan===\n",
      "[]\n"
     ]
    }
   ],
   "source": [
    "check_flatmap(MALE_FLATMAP, 'UBERON:0002107') #liver"
   ]
  },
  {
   "cell_type": "code",
   "execution_count": 64,
   "id": "08842593-bf7d-43d1-8cb9-4f8619e5172a",
   "metadata": {},
   "outputs": [
    {
     "name": "stdout",
     "output_type": "stream",
     "text": [
      "===On Both===\n",
      "['ilxtr:neuron-type-aacar-10a', 'ilxtr:neuron-type-aacar-11', 'ilxtr:neuron-type-aacar-4', 'ilxtr:neuron-type-aacar-6', 'ilxtr:neuron-type-aacar-7a', 'ilxtr:neuron-type-aacar-7v', 'ilxtr:neuron-type-aacar-8a', 'ilxtr:neuron-type-aacar-8v', 'ilxtr:neuron-type-aacar-9a', 'ilxtr:neuron-type-aacar-9v']\n",
      "===Only On Flatmap===\n",
      "[]\n",
      "===Only On Sckan===\n",
      "['ilxtr:neuron-type-aacar-13', 'ilxtr:neuron-type-aacar-5']\n"
     ]
    }
   ],
   "source": [
    "check_flatmap(MALE_FLATMAP, 'UBERON:0000948') #heart"
   ]
  },
  {
   "cell_type": "code",
   "execution_count": 67,
   "id": "0f4c09d8-0366-40b9-9915-cc132d443ac7",
   "metadata": {},
   "outputs": [
    {
     "name": "stdout",
     "output_type": "stream",
     "text": [
      "===On Both===\n",
      "[]\n",
      "===Only On Flatmap===\n",
      "[]\n",
      "===Only On Sckan===\n",
      "[]\n"
     ]
    }
   ],
   "source": [
    "check_flatmap(FEMALE_FLATMAP, 'UBERON:0002048') #lung"
   ]
  },
  {
   "cell_type": "code",
   "execution_count": 69,
   "id": "cc650d07-a6a6-4031-beef-1c3efc1406e0",
   "metadata": {},
   "outputs": [
    {
     "name": "stdout",
     "output_type": "stream",
     "text": [
      "===On Both===\n",
      "['ilxtr:sparc-nlp/kidney/136', 'ilxtr:sparc-nlp/kidney/139', 'ilxtr:sparc-nlp/kidney/141', 'ilxtr:sparc-nlp/kidney/147', 'ilxtr:sparc-nlp/kidney/147-1', 'ilxtr:sparc-nlp/kidney/148', 'ilxtr:sparc-nlp/kidney/155']\n",
      "===Only On Flatmap===\n",
      "['ilxtr:sparc-nlp/kidney/132', 'ilxtr:sparc-nlp/kidney/134', 'ilxtr:sparc-nlp/kidney/135', 'ilxtr:sparc-nlp/kidney/137', 'ilxtr:sparc-nlp/kidney/138', 'ilxtr:sparc-nlp/kidney/143', 'ilxtr:sparc-nlp/kidney/144', 'ilxtr:sparc-nlp/kidney/145', 'ilxtr:sparc-nlp/kidney/150', 'ilxtr:sparc-nlp/kidney/152']\n",
      "===Only On Sckan===\n",
      "[]\n"
     ]
    }
   ],
   "source": [
    "check_flatmap(RAT_FLATMAP, 'UBERON:0002113') #kidney"
   ]
  },
  {
   "cell_type": "code",
   "execution_count": 70,
   "id": "36021af3-8976-4b65-ba6d-310f2645f251",
   "metadata": {},
   "outputs": [
    {
     "name": "stdout",
     "output_type": "stream",
     "text": [
      "===On Both===\n",
      "['ilxtr:sparc-nlp/kidney/136', 'ilxtr:sparc-nlp/kidney/139', 'ilxtr:sparc-nlp/kidney/141', 'ilxtr:sparc-nlp/kidney/147', 'ilxtr:sparc-nlp/kidney/147-1', 'ilxtr:sparc-nlp/kidney/148', 'ilxtr:sparc-nlp/kidney/155']\n",
      "===Only On Flatmap===\n",
      "['ilxtr:sparc-nlp/kidney/132', 'ilxtr:sparc-nlp/kidney/134', 'ilxtr:sparc-nlp/kidney/135', 'ilxtr:sparc-nlp/kidney/137', 'ilxtr:sparc-nlp/kidney/138', 'ilxtr:sparc-nlp/kidney/143', 'ilxtr:sparc-nlp/kidney/144', 'ilxtr:sparc-nlp/kidney/145', 'ilxtr:sparc-nlp/kidney/152']\n",
      "===Only On Sckan===\n",
      "[]\n"
     ]
    }
   ],
   "source": [
    "check_flatmap(MALE_FLATMAP, 'UBERON:0002113') #kidney"
   ]
  },
  {
   "cell_type": "code",
   "execution_count": null,
   "id": "9d09854c-1323-471c-9285-76f471758043",
   "metadata": {},
   "outputs": [],
   "source": []
  },
  {
   "cell_type": "code",
   "execution_count": null,
   "id": "1b5a795c-e2bf-423a-868c-dc2acd9e8d74",
   "metadata": {},
   "outputs": [],
   "source": []
  },
  {
   "cell_type": "code",
   "execution_count": null,
   "id": "f087f944-3ac5-4832-a168-7388a3bd6eec",
   "metadata": {},
   "outputs": [],
   "source": []
  }
 ],
 "metadata": {
  "kernelspec": {
   "display_name": "Python 3 (ipykernel)",
   "language": "python",
   "name": "python3"
  },
  "language_info": {
   "codemirror_mode": {
    "name": "ipython",
    "version": 3
   },
   "file_extension": ".py",
   "mimetype": "text/x-python",
   "name": "python",
   "nbconvert_exporter": "python",
   "pygments_lexer": "ipython3",
   "version": "3.12.4"
  }
 },
 "nbformat": 4,
 "nbformat_minor": 5
}
